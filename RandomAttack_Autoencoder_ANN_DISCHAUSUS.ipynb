{
 "cells": [
  {
   "cell_type": "code",
   "execution_count": 6,
   "id": "fb12c3c5",
   "metadata": {},
   "outputs": [],
   "source": [
    "#!/usr/bin/env python3\n",
    "import tensorflow as tf\n",
    "\n",
    "raw_dataset = tf.data.TFRecordDataset([\"tfrecords/dichasus-0053.tfrecords\", \"tfrecords/dichasus-0054.tfrecords\", \"tfrecords/dichasus-0055.tfrecords\", \"tfrecords/dichasus-0056.tfrecords\", \"tfrecords/dichasus-0057.tfrecords\"])\n",
    "\n",
    "feature_description = {\n",
    "\t\"csi\": tf.io.FixedLenFeature([], tf.string, default_value = ''),\n",
    "\t\"pos-lidar\": tf.io.FixedLenFeature([], tf.string, default_value = ''),\n",
    "\t\"rot\": tf.io.FixedLenFeature([], tf.float32, default_value = 0),\n",
    "\t\"snr\": tf.io.FixedLenFeature([], tf.string, default_value = ''),\n",
    "\t\"time\": tf.io.FixedLenFeature([], tf.float32, default_value = 0),\n",
    "}\n",
    "\t\t\t\n",
    "def record_parse_function(proto):\n",
    "\trecord = tf.io.parse_single_example(proto, feature_description)\n",
    "\n",
    "\t# Channel coefficients for all antennas, over all subcarriers, real and imaginary parts\n",
    "\tcsi = tf.ensure_shape(tf.io.parse_tensor(record[\"csi\"], out_type = tf.float32), (32, 1024, 2))\n",
    "\n",
    "\t# Position of transmitter determined by vacuum robot LIDAR, in meters (X / Y coordinates)\n",
    "\tpos_lidar = tf.ensure_shape(tf.io.parse_tensor(record[\"pos-lidar\"], out_type = tf.float64), (2))\n",
    "\n",
    "\t# Rotation of robot relative to its initial parking position, in radians\n",
    "\trot = tf.ensure_shape(record[\"rot\"], ())\n",
    "\n",
    "\t# Signal-to-Noise ratio estimates for all antennas\n",
    "\tsnr = tf.ensure_shape(tf.io.parse_tensor(record[\"snr\"], out_type = tf.float32), (32))\n",
    "\n",
    "\t# Timestamp since start of measurement campaign, in seconds\n",
    "\ttime = tf.ensure_shape(record[\"time\"], ())\n",
    "\n",
    "\treturn csi, pos_lidar, rot, snr, time\n",
    "\t\t\t\n",
    "dataset = raw_dataset.map(record_parse_function, num_parallel_calls = tf.data.experimental.AUTOTUNE)\n",
    "\n",
    "# Optional: Cache dataset in RAM for faster training\n",
    "dataset = dataset.cache()"
   ]
  },
  {
   "cell_type": "code",
   "execution_count": 7,
   "id": "a3dc63fd",
   "metadata": {},
   "outputs": [
    {
     "name": "stdout",
     "output_type": "stream",
     "text": [
      "CSI shape: [[[ 4.677066    5.6480703 ]\n",
      "  [ 4.847598    5.4856462 ]\n",
      "  [ 4.838405    5.524256  ]\n",
      "  ...\n",
      "  [ 4.992615    5.503038  ]\n",
      "  [ 4.9786806   5.5077133 ]\n",
      "  [ 4.964582    5.5506005 ]]\n",
      "\n",
      " [[-4.335247   -0.6367858 ]\n",
      "  [-4.3260746  -0.51643324]\n",
      "  [-4.3296833  -0.5110897 ]\n",
      "  ...\n",
      "  [-4.4847803  -0.48019722]\n",
      "  [-4.467213   -0.47334757]\n",
      "  [-4.4673877  -0.49514312]]\n",
      "\n",
      " [[-0.456782   -3.9246633 ]\n",
      "  [-0.6060356  -3.8824916 ]\n",
      "  [-0.6376779  -3.9059012 ]\n",
      "  ...\n",
      "  [-0.5795499  -3.9791732 ]\n",
      "  [-0.5913298  -3.9797091 ]\n",
      "  [-0.5953056  -3.975963  ]]\n",
      "\n",
      " ...\n",
      "\n",
      " [[ 3.8970525   1.2842767 ]\n",
      "  [ 3.978285    1.0757    ]\n",
      "  [ 4.0061326   1.0815977 ]\n",
      "  ...\n",
      "  [ 3.900131    1.250023  ]\n",
      "  [ 3.913517    1.2190633 ]\n",
      "  [ 3.9695144   1.1905873 ]]\n",
      "\n",
      " [[-2.3095734  -2.8977933 ]\n",
      "  [-2.3791945  -2.854156  ]\n",
      "  [-2.358918   -2.895447  ]\n",
      "  ...\n",
      "  [-2.561728   -2.7974913 ]\n",
      "  [-2.507762   -2.7930186 ]\n",
      "  [-2.4648798  -2.8466678 ]]\n",
      "\n",
      " [[-4.575502   -2.5826828 ]\n",
      "  [-4.6484637  -2.3990104 ]\n",
      "  [-4.6935163  -2.4043748 ]\n",
      "  ...\n",
      "  [-4.6796784  -2.476289  ]\n",
      "  [-4.6961684  -2.4618669 ]\n",
      "  [-4.7144475  -2.4566715 ]]]\n",
      "Position (GNSS): [ 0.006 -0.066]\n",
      "SNR: 0.0\n",
      "Standard Deviation (GNSS): [28.415056 22.343811 17.865992 22.418001 10.229276 18.662386 20.023983\n",
      " 21.339106 20.590075 25.739784 23.265505 26.995213 22.27798  23.272156\n",
      " 12.786124 22.96022  15.968887 20.179789 12.780395  3.375365 17.793974\n",
      " 25.55302  27.450037 22.402422 25.474579  8.651514 22.516638 28.001432\n",
      " 18.964144 22.592419 21.721334 22.12684 ]\n",
      "Time: 4790.544\n"
     ]
    },
    {
     "name": "stderr",
     "output_type": "stream",
     "text": [
      "2025-07-30 21:46:06.068429: W tensorflow/core/kernels/data/cache_dataset_ops.cc:854] The calling iterator did not fully read the dataset being cached. In order to avoid unexpected truncation of the dataset, the partially cached contents of the dataset  will be discarded. This can happen if you have an input pipeline similar to `dataset.cache().take(k).repeat()`. You should use `dataset.take(k).cache().repeat()` instead.\n"
     ]
    }
   ],
   "source": [
    "for x in dataset:\n",
    "    print(\"CSI shape:\", x[0].numpy())\n",
    "    print(\"Position (GNSS):\", x[1].numpy())\n",
    "    print(\"SNR:\", x[2].numpy())\n",
    "    print(\"Standard Deviation (GNSS):\", x[3].numpy())\n",
    "    print(\"Time:\", x[4].numpy())\n",
    "    break"
   ]
  },
  {
   "cell_type": "code",
   "execution_count": 12,
   "id": "925f6487",
   "metadata": {},
   "outputs": [],
   "source": [
    "ground_truth = dataset.map(lambda csi, pos_lidar, rot,snr, time: pos_lidar)"
   ]
  },
  {
   "cell_type": "code",
   "execution_count": 13,
   "id": "172297d4",
   "metadata": {},
   "outputs": [],
   "source": [
    "csi = dataset.map(lambda csi, pos_lidar, rot,snr, time: csi)"
   ]
  },
  {
   "cell_type": "code",
   "execution_count": 14,
   "id": "d92c3d9a",
   "metadata": {},
   "outputs": [
    {
     "data": {
      "text/plain": [
       "<bound method CompositeTensor._shape_invariant_to_type_spec of <_MapDataset element_spec=TensorSpec(shape=(32, 1024, 2), dtype=tf.float32, name=None)>>"
      ]
     },
     "execution_count": 14,
     "metadata": {},
     "output_type": "execute_result"
    }
   ],
   "source": [
    "csi._shape_invariant_to_type_spec"
   ]
  },
  {
   "cell_type": "code",
   "execution_count": 15,
   "id": "50321050",
   "metadata": {},
   "outputs": [
    {
     "name": "stdout",
     "output_type": "stream",
     "text": [
      "Ground Truth Position (GNSS): [ 0.006 -0.066]\n"
     ]
    },
    {
     "name": "stderr",
     "output_type": "stream",
     "text": [
      "2025-07-30 21:47:37.441793: W tensorflow/core/kernels/data/cache_dataset_ops.cc:854] The calling iterator did not fully read the dataset being cached. In order to avoid unexpected truncation of the dataset, the partially cached contents of the dataset  will be discarded. This can happen if you have an input pipeline similar to `dataset.cache().take(k).repeat()`. You should use `dataset.take(k).cache().repeat()` instead.\n"
     ]
    }
   ],
   "source": [
    "for x in ground_truth:\n",
    "    print(\"Ground Truth Position (GNSS):\", x.numpy())\n",
    "    break"
   ]
  },
  {
   "cell_type": "code",
   "execution_count": 16,
   "id": "447ba00f",
   "metadata": {},
   "outputs": [],
   "source": [
    "# making the dataset into a numpy array\n",
    "import numpy as np\n",
    "\n",
    "def dataset_to_numpy(dataset):\n",
    "    numpy_arrays = []\n",
    "    for x in dataset:\n",
    "        numpy_arrays.append(x.numpy())\n",
    "    return np.array(numpy_arrays)\n",
    "ground_truth_np = dataset_to_numpy(ground_truth)"
   ]
  },
  {
   "cell_type": "code",
   "execution_count": 17,
   "id": "d156e762",
   "metadata": {},
   "outputs": [
    {
     "data": {
      "text/plain": [
       "(26161, 2)"
      ]
     },
     "execution_count": 17,
     "metadata": {},
     "output_type": "execute_result"
    }
   ],
   "source": [
    "ground_truth_np.shape"
   ]
  },
  {
   "cell_type": "code",
   "execution_count": 18,
   "id": "447ba00f",
   "metadata": {},
   "outputs": [],
   "source": [
    "csi_np = dataset_to_numpy(csi)"
   ]
  },
  {
   "cell_type": "code",
   "execution_count": 19,
   "id": "5c7f8462",
   "metadata": {},
   "outputs": [
    {
     "data": {
      "text/plain": [
       "(26161, 32, 1024, 2)"
      ]
     },
     "execution_count": 19,
     "metadata": {},
     "output_type": "execute_result"
    }
   ],
   "source": [
    "csi_np.shape"
   ]
  },
  {
   "cell_type": "code",
   "execution_count": 20,
   "id": "d61a4218",
   "metadata": {},
   "outputs": [],
   "source": [
    "csi_real= csi_np[:, :, :,0]\n",
    "csi_imag = csi_np[:, :, :,1]"
   ]
  },
  {
   "cell_type": "code",
   "execution_count": 21,
   "id": "b1b502eb",
   "metadata": {},
   "outputs": [
    {
     "data": {
      "text/plain": [
       "((26161, 32, 1024), (26161, 32, 1024))"
      ]
     },
     "execution_count": 21,
     "metadata": {},
     "output_type": "execute_result"
    }
   ],
   "source": [
    "csi_real.shape, csi_imag.shape"
   ]
  },
  {
   "cell_type": "code",
   "execution_count": 22,
   "id": "372ea268",
   "metadata": {},
   "outputs": [
    {
     "data": {
      "image/png": "[encoded data removed]",
      "text/plain": [
       "<Figure size 1000x600 with 1 Axes>"
      ]
     },
     "metadata": {},
     "output_type": "display_data"
    }
   ],
   "source": [
    "import matplotlib.pyplot as plt\n",
    "\n",
    "# Plotting the ground truth positions\n",
    "plt.figure(figsize=(10, 6))\n",
    "plt.scatter(ground_truth_np[:, 0], ground_truth_np[:, 1], c='blue', label='Ground Truth Position (GNSS)')\n",
    "plt.title('Ground Truth Position (GNSS)')\n",
    "plt.xlabel('Latitude')\n",
    "plt.ylabel('Longitude')\n",
    "plt.legend()\n",
    "plt.grid()\n",
    "plt.show()"
   ]
  },
  {
   "cell_type": "code",
   "execution_count": 42,
   "id": "59d3de7e",
   "metadata": {},
   "outputs": [],
   "source": [
    "import numpy as np\n",
    "from scipy.special import softmax\n",
    "\n",
    "def build_grid(grid_size=30, space_bounds=None):\n",
    "    (xmin, xmax), (ymin, ymax) = space_bounds\n",
    "    x_lin = np.linspace(xmin, xmax, grid_size)\n",
    "    y_lin = np.linspace(ymin, ymax, grid_size)\n",
    "        \n",
    "    xv, yv = np.meshgrid(x_lin, y_lin)\n",
    "    grid_points = np.stack([xv.ravel(), yv.ravel()], axis=1)\n",
    "    return grid_points\n",
    "\n",
    "def compute_soft_probability_maps(positions, grid_points, temperature=.1):\n",
    "    N = positions.shape[0]\n",
    "    K = grid_points.shape[0]\n",
    "    dists = np.linalg.norm(positions[:, np.newaxis, :] - grid_points[np.newaxis, :, :], axis=2)\n",
    "    sim_scores = -dists / temperature\n",
    "    prob_maps = softmax(sim_scores, axis=1)\n",
    "    return prob_maps\n",
    "\n",
    "def estimate_positions_from_maps(prob_maps, grid_points):\n",
    "    return np.matmul(prob_maps, grid_points)\n",
    "\n",
    "def generate_all_probability_maps(positions, grid_size=30, temperature=.1):\n",
    "    x_min, x_max = positions[:, 0].min(), positions[:, 0].max()\n",
    "    y_min, y_max = positions[:, 1].min(), positions[:, 1].max()\n",
    "    print(\"Position bounds:\", (x_min, x_max), (y_min, y_max))\n",
    "    grid_points = build_grid(grid_size, space_bounds=((x_min, x_max), (y_min, y_max)))\n",
    "    print(\"Grid points shape:\", grid_points.shape)\n",
    "    prob_maps = compute_soft_probability_maps(positions, grid_points, temperature=temperature)\n",
    "\n",
    "    est_locations = estimate_positions_from_maps(prob_maps, grid_points)\n",
    "\n",
    "    return prob_maps, est_locations, grid_points"
   ]
  },
  {
   "cell_type": "code",
   "execution_count": null,
   "id": "9198d60f",
   "metadata": {},
   "outputs": [],
   "source": []
  }
 ],
 "metadata": {
  "kernelspec": {
   "display_name": "Summer_Intern",
   "language": "python",
   "name": "python3"
  },
  "language_info": {
   "codemirror_mode": {
    "name": "ipython",
    "version": 3
   },
   "file_extension": ".py",
   "mimetype": "text/x-python",
   "name": "python",
   "nbconvert_exporter": "python",
   "pygments_lexer": "ipython3",
   "version": "3.8.20"
  }
 },
 "nbformat": 4,
 "nbformat_minor": 5
}
