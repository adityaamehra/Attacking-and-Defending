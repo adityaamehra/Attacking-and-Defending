{
 "cells": [
  {
   "cell_type": "code",
   "execution_count": null,
   "id": "02509c8e",
   "metadata": {},
   "outputs": [],
   "source": [
    "import h5py\n",
    "import numpy as np\n",
    "\n",
    "# Path to your HDF5 file\n",
    "file_path = '5G_dataset/5G_training_data.hdf5'\n",
    "\n",
    "# Create an empty dictionary to store NumPy arrays\n",
    "data_dict = {}\n",
    "\n",
    "# Open the HDF5 file\n",
    "with h5py.File(file_path, 'r') as hdf:\n",
    "    # Iterate over all datasets in the file\n",
    "    for key in hdf.keys():\n",
    "        dataset = hdf[key][:]\n",
    "        data_dict[key] = dataset  # Store each dataset into the dictionary\n",
    "\n",
    "# Now, you can access individual datasets as NumPy arrays\n",
    "A_ID = data_dict['A_ID']\n",
    "B_ID = data_dict['B_ID']\n",
    "CIR_I = data_dict['CIR_I']\n",
    "CIR_R = data_dict['CIR_R']\n",
    "POS_X = data_dict['POS_X']\n",
    "POS_Y = data_dict['POS_Y']\n",
    "TD = data_dict['TD']\n",
    "TD_OFFSET = data_dict['TD_OFFSET']\n",
    "TIME_STAMP = data_dict['TIME_STAMP']\n",
    "\n",
    "# For verification, print shapes of arrays\n",
    "for key, value in data_dict.items():\n",
    "    print(f\"{key} shape: {value.shape}\")"
   ]
  },
  {
   "cell_type": "code",
   "execution_count": null,
   "id": "7bec4a10",
   "metadata": {},
   "outputs": [],
   "source": [
    "CIR=CIR_R+ 1j*CIR_I"
   ]
  },
  {
   "cell_type": "code",
   "execution_count": null,
   "id": "b63897de",
   "metadata": {},
   "outputs": [],
   "source": [
    "grt_pos=np.stack((POS_X, POS_Y), axis=1)"
   ]
  },
  {
   "cell_type": "code",
   "execution_count": null,
   "id": "955f00c8",
   "metadata": {},
   "outputs": [],
   "source": [
    "def feature_extraction_F1(cir_matrix):\n",
    "    R = cir_matrix * np.conj(cir_matrix)\n",
    "    r = R.flatten()\n",
    "    r_real = np.real(r)\n",
    "    r_imag = np.imag(r)\n",
    "    r_R = np.concatenate((r_real, r_imag))\n",
    "    feature_vector = r_R / np.linalg.norm(r_R)\n",
    "    return feature_vector\n",
    "\n",
    "features_F1_cir = np.array([feature_extraction_F1(cir) for cir in CIR])\n",
    "print(\"Shape of Features (F1_cir):\", features_F1_cir.shape)"
   ]
  },
  {
   "cell_type": "code",
   "execution_count": null,
   "id": "1a11a283",
   "metadata": {},
   "outputs": [],
   "source": [
    "from sklearn.model_selection import train_test_split\n",
    "X_train, x1, y_train, y1 = train_test_split(features_F1_cir, grt_pos, test_size=0.4, random_state=42)\n",
    "X_test, X_pred, y_test, y_pred = train_test_split(x1, y1, test_size=0.5, random_state=42)"
   ]
  },
  {
   "cell_type": "code",
   "execution_count": null,
   "id": "a9e55f74",
   "metadata": {},
   "outputs": [],
   "source": [
    "import matplotlib.pyplot as plt\n",
    "\n",
    "plt.figure(figsize=(10, 10))\n",
    "plt.scatter(y_pred[:, 0], y_pred[:, 1], c='blue', label='Ground Truth', alpha=0.5)\n",
    "plt.title('Ground Truth Positions for the pred set')\n",
    "plt.xlabel('X Position')\n",
    "plt.ylabel('Y Position')\n",
    "plt.legend()\n",
    "plt.grid(True)\n",
    "plt.show()"
   ]
  },
  {
   "cell_type": "code",
   "execution_count": null,
   "id": "34b345c0",
   "metadata": {},
   "outputs": [],
   "source": [
    "plt.figure(figsize=(10, 10))\n",
    "plt.scatter(y_test[:, 0], y_test[:, 1], c='blue', label='Ground Truth', alpha=0.5)\n",
    "plt.title('Ground Truth Positions for the Test Set')\n",
    "plt.xlabel('X Position')\n",
    "plt.ylabel('Y Position')\n",
    "plt.legend()\n",
    "plt.grid(True)\n",
    "plt.show()"
   ]
  },
  {
   "cell_type": "code",
   "execution_count": null,
   "id": "c67f2ae4",
   "metadata": {},
   "outputs": [],
   "source": [
    "plt.figure(figsize=(10, 10))\n",
    "plt.scatter(y_train[:, 0], y_train[:, 1], c='blue', label='Ground Truth', alpha=0.5)\n",
    "plt.title('Ground Truth Positions for the train set')\n",
    "plt.xlabel('X Position')\n",
    "plt.ylabel('Y Position')\n",
    "plt.legend()\n",
    "plt.grid(True)\n",
    "plt.show()"
   ]
  },
  {
   "cell_type": "code",
   "execution_count": null,
   "id": "531d0717",
   "metadata": {},
   "outputs": [],
   "source": [
    "import numpy as np\n",
    "from scipy.special import softmax\n",
    "\n",
    "def build_grid(grid_size=30, space_bounds=None):\n",
    "    (xmin, xmax), (ymin, ymax) = space_bounds\n",
    "    x_lin = np.linspace(xmin, xmax, grid_size)\n",
    "    y_lin = np.linspace(ymin, ymax, grid_size)\n",
    "        \n",
    "    xv, yv = np.meshgrid(x_lin, y_lin)\n",
    "    grid_points = np.stack([xv.ravel(), yv.ravel()], axis=1)\n",
    "    return grid_points\n",
    "\n",
    "def compute_soft_probability_maps(positions, grid_points, temperature=.1):\n",
    "    N = positions.shape[0]\n",
    "    K = grid_points.shape[0]\n",
    "    dists = np.linalg.norm(positions[:, np.newaxis, :] - grid_points[np.newaxis, :, :], axis=2)\n",
    "    sim_scores = -dists / temperature\n",
    "    prob_maps = softmax(sim_scores, axis=1)\n",
    "    return prob_maps\n",
    "\n",
    "def estimate_positions_from_maps(prob_maps, grid_points):\n",
    "    return np.matmul(prob_maps, grid_points)\n",
    "\n",
    "def generate_all_probability_maps(positions, grid_size=30, temperature=.1):\n",
    "    x_min, x_max = positions[:, 0].min(), positions[:, 0].max()\n",
    "    y_min, y_max = positions[:, 1].min(), positions[:, 1].max()\n",
    "    print(\"Position bounds:\", (x_min, x_max), (y_min, y_max))\n",
    "    grid_points = build_grid(grid_size, space_bounds=((x_min, x_max), (y_min, y_max)))\n",
    "    print(\"Grid points shape:\", grid_points.shape)\n",
    "    prob_maps = compute_soft_probability_maps(positions, grid_points, temperature=temperature)\n",
    "\n",
    "    est_locations = estimate_positions_from_maps(prob_maps, grid_points)\n",
    "\n",
    "    return prob_maps, est_locations, grid_points"
   ]
  },
  {
   "cell_type": "code",
   "execution_count": null,
   "id": "2ad33b53",
   "metadata": {},
   "outputs": [],
   "source": [
    "def plot_heatmap(prob_map, grid_points, title=\"Heatmap\"):\n",
    "    plt.figure(figsize=(8, 6))\n",
    "    plt.imshow(prob_map.reshape(100, 100), extent=(grid_points[:, 0].min(), grid_points[:, 0].max(),\n",
    "                                                  grid_points[:, 1].min(), grid_points[:, 1].max()),\n",
    "               origin='lower', cmap='hot', alpha=0.7)\n",
    "    plt.colorbar(label='Probability')\n",
    "    plt.title(title)\n",
    "    plt.xlabel('X Position')\n",
    "    plt.ylabel('Y Position')\n",
    "    plt.show()"
   ]
  },
  {
   "cell_type": "code",
   "execution_count": null,
   "id": "45dd0839",
   "metadata": {},
   "outputs": [],
   "source": [
    "prob_map_test, est_locations_test, grid_points_test = generate_all_probability_maps(y_test, grid_size=100, temperature=0.1)\n",
    "prob_map_train, est_locations_train, grid_points_train = generate_all_probability_maps(y_train, grid_size=100, temperature=0.1)\n",
    "prob_map_pred, est_locations_pred, grid_points_pred = generate_all_probability_maps(y_pred, grid_size=100, temperature=0.1)"
   ]
  },
  {
   "cell_type": "code",
   "execution_count": null,
   "id": "0cf6bdbc",
   "metadata": {},
   "outputs": [],
   "source": [
    "plt.figure(figsize=(10, 10))\n",
    "plt.scatter(y_test[:, 0], y_test[:, 1], c='blue', label='Ground Truth (Test)', alpha=0.5)\n",
    "plt.scatter(est_locations_test[:, 0], est_locations_test[:, 1], c='red', label='Estimated (Test)', alpha=0.5)\n",
    "plt.title('Estimated vs Ground Truth Positions (Test Set)')\n",
    "plt.xlabel('X Position')\n",
    "plt.ylabel('Y Position')\n",
    "plt.legend()\n",
    "plt.grid(True)\n",
    "plt.show()"
   ]
  },
  {
   "cell_type": "code",
   "execution_count": null,
   "id": "e65d5e4e",
   "metadata": {},
   "outputs": [],
   "source": [
    "from keras import layers\n",
    "import tensorflow as tf\n",
    "\n",
    "class NeuralNetwork(tf.keras.Model):\n",
    "    def __init__(self, input_size, output_size):\n",
    "        super(NeuralNetwork, self).__init__()\n",
    "        self.fc1 = layers.Dense(512, input_dim=input_size)\n",
    "        self.bn1 = layers.BatchNormalization()\n",
    "        self.fc2 = layers.Dense(256)\n",
    "        self.bn2 = layers.BatchNormalization()\n",
    "        self.fc4 = layers.Dense(output_size, activation='softmax')\n",
    "\n",
    "    def call(self, inputs):\n",
    "        x = self.fc1(inputs)\n",
    "        x = self.bn1(x)\n",
    "        x = tf.nn.relu(x)\n",
    "\n",
    "        x = self.fc2(x)\n",
    "        x = self.bn2(x)\n",
    "        x = tf.nn.relu(x)\n",
    "\n",
    "        x = self.fc4(x)\n",
    "        return x\n",
    "\n",
    "# Set output_size to the number of grid points (e.g., 900 for 30x30 grid)\n",
    "output_size = grid_points_train.shape[0]  # grid_points from your earlier code\n",
    "print(output_size)"
   ]
  },
  {
   "cell_type": "code",
   "execution_count": null,
   "id": "655c44e8",
   "metadata": {},
   "outputs": [],
   "source": [
    "y_train.shape,X_train.shape"
   ]
  },
  {
   "cell_type": "code",
   "execution_count": null,
   "id": "54643bab",
   "metadata": {},
   "outputs": [],
   "source": [
    "features_F1_cir.shape[1]"
   ]
  },
  {
   "cell_type": "code",
   "execution_count": null,
   "id": "7f6ab68f",
   "metadata": {},
   "outputs": [],
   "source": [
    "model=NeuralNetwork(input_size=features_F1_cir.shape[1], output_size=output_size)\n",
    "model.compile(optimizer='adam', loss='categorical_crossentropy', metrics=['accuracy'])"
   ]
  },
  {
   "cell_type": "code",
   "execution_count": null,
   "id": "4c6cad9b",
   "metadata": {},
   "outputs": [],
   "source": [
    "model.fit(X_pred, prob_map_pred, epochs=30, batch_size=32, validation_split=0.2)"
   ]
  },
  {
   "cell_type": "code",
   "execution_count": null,
   "id": "5ba21572",
   "metadata": {},
   "outputs": [],
   "source": [
    "model.fit(X_pred, prob_map_pred, epochs=40, batch_size=32, validation_split=0.2)"
   ]
  },
  {
   "cell_type": "code",
   "execution_count": null,
   "id": "ac9b8b8f",
   "metadata": {},
   "outputs": [],
   "source": [
    "model.fit(X_pred, prob_map_pred, epochs=100, batch_size=32, validation_split=0.2)"
   ]
  },
  {
   "cell_type": "code",
   "execution_count": null,
   "id": "2002f900",
   "metadata": {},
   "outputs": [],
   "source": [
    "predicted_maps = model.predict(X_test)\n",
    "plot_heatmap(predicted_maps[2], grid_points_test, title=\"Predicted Heatmap for First Test Position\")\n",
    "print(f\"Estimated :- {estimate_positions_from_maps(predicted_maps, grid_points_test)[2]}\")\n",
    "print(f\"Ground Truth :- {y_test[2]}\")\n",
    "plot_heatmap(prob_map_test[2], grid_points_test, title=\"Heatmap for First Test Position\")\n",
    "predicted_positions = np.matmul(predicted_maps, grid_points_test)\n",
    "mae = np.mean(np.abs(y_test - predicted_positions), axis=0)\n",
    "print(\"Mean Absolute Error (Position Predictions):\", mae)"
   ]
  },
  {
   "cell_type": "code",
   "execution_count": null,
   "id": "0aac1b9d",
   "metadata": {},
   "outputs": [],
   "source": [
    "grid_points = build_grid(grid_size=100, space_bounds=((grt_pos[:, 0].min(), grt_pos[:, 0].max()),\n",
    "                                                    (grt_pos[:, 1].min(), grt_pos[:, 1].max())))\n",
    "# Plot the grid points\n",
    "plt.figure(figsize=(10, 10))\n",
    "plt.scatter(grid_points[:, 0], grid_points[:, 1], c='red', label='Grid Points', alpha=0.5)\n",
    "plt.scatter(grt_pos[:, 0], grt_pos[:, 1], c='blue', label='Ground Truth', alpha=0.01)\n",
    "plt.title('Grid Points and Ground Truth Positions')\n",
    "plt.xlabel('X Position')\n",
    "plt.ylabel('Y Position')\n",
    "plt.legend()\n",
    "plt.grid(True)\n",
    "plt.show()"
   ]
  },
  {
   "cell_type": "code",
   "execution_count": null,
   "id": "423cdbe9",
   "metadata": {},
   "outputs": [],
   "source": [
    "predicted_maps.shape, grid_points_test.shape"
   ]
  },
  {
   "cell_type": "code",
   "execution_count": null,
   "id": "1b46b1b7",
   "metadata": {},
   "outputs": [],
   "source": [
    "jk=estimate_positions_from_maps(predicted_maps, grid_points_test)"
   ]
  },
  {
   "cell_type": "code",
   "execution_count": null,
   "id": "f6edb632",
   "metadata": {},
   "outputs": [],
   "source": [
    "plt.figure(figsize=(10, 10))\n",
    "plt.scatter(y_test[:, 0], y_test[:, 1], c='blue', label='Ground Truth (Test)', alpha=0.5)\n",
    "plt.scatter(jk[:, 0], jk[:, 1], c='red', label='Estimated (Test)', alpha=0.5)\n",
    "plt.title('Estimated vs Ground Truth Positions (Test Set)')\n",
    "plt.xlabel('X Position')\n",
    "plt.ylabel('Y Position')\n",
    "plt.legend()\n",
    "plt.grid(True)\n",
    "plt.show()"
   ]
  },
  {
   "cell_type": "code",
   "execution_count": null,
   "id": "b5ed7568",
   "metadata": {},
   "outputs": [],
   "source": []
  }
 ],
 "metadata": {
  "kernelspec": {
   "display_name": "Summer_Intern",
   "language": "python",
   "name": "python3"
  },
  "language_info": {
   "codemirror_mode": {
    "name": "ipython",
    "version": 3
   },
   "file_extension": ".py",
   "mimetype": "text/x-python",
   "name": "python",
   "nbconvert_exporter": "python",
   "pygments_lexer": "ipython3",
   "version": "3.8.20"
  }
 },
 "nbformat": 4,
 "nbformat_minor": 5
}
