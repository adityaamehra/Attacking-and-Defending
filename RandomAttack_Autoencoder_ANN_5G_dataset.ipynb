{
 "cells": [
  {
   "cell_type": "code",
   "execution_count": null,
   "id": "02509c8e",
   "metadata": {},
   "outputs": [],
   "source": [
    "import h5py\n",
    "import numpy as np\n",
    "\n",
    "# Path to your HDF5 file\n",
    "file_path = '5G_dataset/5G_training_data.hdf5'\n",
    "\n",
    "# Create an empty dictionary to store NumPy arrays\n",
    "data_dict = {}\n",
    "\n",
    "# Open the HDF5 file\n",
    "with h5py.File(file_path, 'r') as hdf:\n",
    "    # Iterate over all datasets in the file\n",
    "    for key in hdf.keys():\n",
    "        dataset = hdf[key][:]\n",
    "        data_dict[key] = dataset  # Store each dataset into the dictionary\n",
    "\n",
    "# Now, you can access individual datasets as NumPy arrays\n",
    "A_ID = data_dict['A_ID']\n",
    "B_ID = data_dict['B_ID']\n",
    "CIR_I = data_dict['CIR_I']\n",
    "CIR_R = data_dict['CIR_R']\n",
    "POS_X = data_dict['POS_X']\n",
    "POS_Y = data_dict['POS_Y']\n",
    "TD = data_dict['TD']\n",
    "TD_OFFSET = data_dict['TD_OFFSET']\n",
    "TIME_STAMP = data_dict['TIME_STAMP']\n",
    "\n",
    "# For verification, print shapes of arrays\n",
    "for key, value in data_dict.items():\n",
    "    print(f\"{key} shape: {value.shape}\")"
   ]
  },
  {
   "cell_type": "code",
   "execution_count": null,
   "id": "7bec4a10",
   "metadata": {},
   "outputs": [],
   "source": [
    "CIR=CIR_R+ 1j*CIR_I"
   ]
  },
  {
   "cell_type": "code",
   "execution_count": null,
   "id": "b63897de",
   "metadata": {},
   "outputs": [],
   "source": [
    "grt_pos=np.stack((POS_X, POS_Y), axis=1)"
   ]
  },
  {
   "cell_type": "code",
   "execution_count": null,
   "id": "955f00c8",
   "metadata": {},
   "outputs": [],
   "source": [
    "def feature_extraction_F1(cir_matrix):\n",
    "    R = cir_matrix * np.conj(cir_matrix)\n",
    "    r = R.flatten()\n",
    "    r_real = np.real(r)\n",
    "    r_imag = np.imag(r)\n",
    "    r_R = np.concatenate((r_real, r_imag))\n",
    "    feature_vector = r_R / np.linalg.norm(r_R)\n",
    "    return feature_vector\n",
    "\n",
    "features_F1_cir = np.array([feature_extraction_F1(cir) for cir in CIR])\n",
    "print(\"Shape of Features (F1_cir):\", features_F1_cir.shape)"
   ]
  },
  {
   "cell_type": "code",
   "execution_count": null,
   "id": "a390e106",
   "metadata": {},
   "outputs": [],
   "source": [
    "features_F1_cir[0]"
   ]
  },
  {
   "cell_type": "code",
   "execution_count": null,
   "id": "1a11a283",
   "metadata": {},
   "outputs": [],
   "source": [
    "from sklearn.model_selection import train_test_split\n",
    "X_train, x1, y_train, y1 = train_test_split(features_F1_cir, grt_pos, test_size=0.4, random_state=42)\n",
    "X_test, X_pred, y_test, y_pred = train_test_split(x1, y1, test_size=0.5, random_state=42)"
   ]
  },
  {
   "cell_type": "code",
   "execution_count": null,
   "id": "a9e55f74",
   "metadata": {},
   "outputs": [],
   "source": [
    "import matplotlib.pyplot as plt\n",
    "\n",
    "plt.figure(figsize=(10, 10))\n",
    "plt.scatter(y_pred[:, 0], y_pred[:, 1], c='blue', label='Ground Truth', alpha=0.5)\n",
    "plt.title('Ground Truth Positions for the pred set')\n",
    "plt.xlabel('X Position')\n",
    "plt.ylabel('Y Position')\n",
    "plt.legend()\n",
    "plt.grid(True)\n",
    "plt.show()"
   ]
  },
  {
   "cell_type": "code",
   "execution_count": null,
   "id": "34b345c0",
   "metadata": {},
   "outputs": [],
   "source": [
    "plt.figure(figsize=(10, 10))\n",
    "plt.scatter(y_test[:, 0], y_test[:, 1], c='blue', label='Ground Truth', alpha=0.5)\n",
    "plt.title('Ground Truth Positions for the Test Set')\n",
    "plt.xlabel('X Position')\n",
    "plt.ylabel('Y Position')\n",
    "plt.legend()\n",
    "plt.grid(True)\n",
    "plt.show()"
   ]
  },
  {
   "cell_type": "code",
   "execution_count": null,
   "id": "c67f2ae4",
   "metadata": {},
   "outputs": [],
   "source": [
    "plt.figure(figsize=(10, 10))\n",
    "plt.scatter(y_train[:, 0], y_train[:, 1], c='blue', label='Ground Truth', alpha=0.5)\n",
    "plt.title('Ground Truth Positions for the train set')\n",
    "plt.xlabel('X Position')\n",
    "plt.ylabel('Y Position')\n",
    "plt.legend()\n",
    "plt.grid(True)\n",
    "plt.show()"
   ]
  },
  {
   "cell_type": "code",
   "execution_count": null,
   "id": "531d0717",
   "metadata": {},
   "outputs": [],
   "source": [
    "import numpy as np\n",
    "from scipy.special import softmax\n",
    "\n",
    "def build_grid(grid_size=30, space_bounds=None):\n",
    "    (xmin, xmax), (ymin, ymax) = space_bounds\n",
    "    x_lin = np.linspace(xmin, xmax, grid_size)\n",
    "    y_lin = np.linspace(ymin, ymax, grid_size)\n",
    "        \n",
    "    xv, yv = np.meshgrid(x_lin, y_lin)\n",
    "    grid_points = np.stack([xv.ravel(), yv.ravel()], axis=1)\n",
    "    return grid_points\n",
    "\n",
    "def compute_soft_probability_maps(positions, grid_points, temperature=.1):\n",
    "    N = positions.shape[0]\n",
    "    K = grid_points.shape[0]\n",
    "    dists = np.linalg.norm(positions[:, np.newaxis, :] - grid_points[np.newaxis, :, :], axis=2)\n",
    "    sim_scores = -dists / temperature\n",
    "    prob_maps = softmax(sim_scores, axis=1)\n",
    "    return prob_maps\n",
    "\n",
    "def estimate_positions_from_maps(prob_maps, grid_points):\n",
    "    return np.matmul(prob_maps, grid_points)\n",
    "\n",
    "def generate_all_probability_maps(positions, grid_size=30, temperature=.1):\n",
    "    x_min, x_max = positions[:, 0].min(), positions[:, 0].max()\n",
    "    y_min, y_max = positions[:, 1].min(), positions[:, 1].max()\n",
    "    print(\"Position bounds:\", (x_min, x_max), (y_min, y_max))\n",
    "    grid_points = build_grid(grid_size, space_bounds=((x_min, x_max), (y_min, y_max)))\n",
    "    print(\"Grid points shape:\", grid_points.shape)\n",
    "    prob_maps = compute_soft_probability_maps(positions, grid_points, temperature=temperature)\n",
    "\n",
    "    est_locations = estimate_positions_from_maps(prob_maps, grid_points)\n",
    "\n",
    "    return prob_maps, est_locations, grid_points"
   ]
  },
  {
   "cell_type": "code",
   "execution_count": null,
   "id": "2ad33b53",
   "metadata": {},
   "outputs": [],
   "source": [
    "def plot_heatmap(prob_map, grid_points, title=\"Heatmap\"):\n",
    "    plt.figure(figsize=(8, 6))\n",
    "    plt.imshow(prob_map.reshape(30, 30), extent=(grid_points[:, 0].min(), grid_points[:, 0].max(),\n",
    "                                                  grid_points[:, 1].min(), grid_points[:, 1].max()),\n",
    "               origin='lower', cmap='hot', alpha=0.7)\n",
    "    plt.colorbar(label='Probability')\n",
    "    plt.title(title)\n",
    "    plt.xlabel('X Position')\n",
    "    plt.ylabel('Y Position')\n",
    "    plt.show()"
   ]
  },
  {
   "cell_type": "code",
   "execution_count": null,
   "id": "8d4afe54",
   "metadata": {},
   "outputs": [],
   "source": [
    "prob_map, est_locations, grid_points = generate_all_probability_maps(grt_pos, grid_size=30, temperature=0.1)"
   ]
  },
  {
   "cell_type": "code",
   "execution_count": null,
   "id": "45dd0839",
   "metadata": {},
   "outputs": [],
   "source": [
    "prob_map_test, est_locations_test, grid_points_test = generate_all_probability_maps(y_test, grid_size=30, temperature=0.1)\n",
    "prob_map_train, est_locations_train, grid_points_train = generate_all_probability_maps(y_train, grid_size=30, temperature=0.1)\n",
    "prob_map_pred, est_locations_pred, grid_points_pred = generate_all_probability_maps(y_pred, grid_size=30, temperature=0.1)"
   ]
  },
  {
   "cell_type": "code",
   "execution_count": null,
   "id": "0cf6bdbc",
   "metadata": {},
   "outputs": [],
   "source": [
    "plt.figure(figsize=(10, 10))\n",
    "plt.scatter(y_test[:, 0], y_test[:, 1], c='blue', label='Ground Truth (Test)', alpha=0.5)\n",
    "plt.scatter(est_locations_test[:, 0], est_locations_test[:, 1], c='red', label='Estimated (Test)', alpha=0.5)\n",
    "plt.title('Estimated vs Ground Truth Positions (Test Set)')\n",
    "plt.xlabel('X Position')\n",
    "plt.ylabel('Y Position')\n",
    "plt.legend()\n",
    "plt.grid(True)\n",
    "plt.show()"
   ]
  },
  {
   "cell_type": "code",
   "execution_count": null,
   "id": "b5ed7568",
   "metadata": {},
   "outputs": [],
   "source": [
    "import tensorflow as tf\n",
    "from keras import layers, models, regularizers\n",
    "\n",
    "def build_csi_probmap_mlp(input_dim: int = 256,hidden_units: tuple = (1024, 512, 512,512),dropout_rate: float = 0.2,l2_coeff: float = 1e-4) -> tf.keras.Model:\n",
    "    inputs = layers.Input(shape=(input_dim,))\n",
    "    x = inputs\n",
    "    for i, width in enumerate(hidden_units, start=1):\n",
    "        x = layers.Dense(width, activation=tf.nn.gelu, kernel_regularizer=regularizers.l2(l2_coeff))(x)\n",
    "        x = layers.Dropout(dropout_rate)(x)\n",
    "    logits = layers.Dense(900, activation=None)(x)\n",
    "    outputs = layers.Activation(\"softmax\")(logits)\n",
    "    return models.Model(inputs, outputs)"
   ]
  },
  {
   "cell_type": "code",
   "execution_count": null,
   "id": "ea143870",
   "metadata": {},
   "outputs": [],
   "source": [
    "pred_ds = tf.data.Dataset.from_tensor_slices((X_pred, prob_map_pred))\n",
    "pred_ds = pred_ds.shuffle(buffer_size=1024).batch(32)"
   ]
  },
  {
   "cell_type": "code",
   "execution_count": null,
   "id": "40833f61",
   "metadata": {},
   "outputs": [],
   "source": [
    "train_ds = tf.data.Dataset.from_tensor_slices((X_train, prob_map_train))\n",
    "train_ds = train_ds.shuffle(buffer_size=1024).batch(32)"
   ]
  },
  {
   "cell_type": "code",
   "execution_count": null,
   "id": "6ba703f0",
   "metadata": {},
   "outputs": [],
   "source": [
    "test_ds = tf.data.Dataset.from_tensor_slices((X_test, prob_map_test))\n",
    "test_ds = test_ds.shuffle(buffer_size=1024).batch(32)"
   ]
  },
  {
   "cell_type": "code",
   "execution_count": null,
   "id": "e9f91e81",
   "metadata": {},
   "outputs": [],
   "source": [
    "model2 = build_csi_probmap_mlp()\n",
    "optimizer = tf.keras.optimizers.Adam(learning_rate=4e-4)\n",
    "model2.compile(optimizer=optimizer, loss='categorical_crossentropy', metrics=['accuracy'])\n",
    "model2.fit(train_ds, epochs=100, validation_data=pred_ds)"
   ]
  },
  {
   "cell_type": "code",
   "execution_count": null,
   "id": "6a8e4aa1",
   "metadata": {},
   "outputs": [],
   "source": [
    "predicted_maps = model2.predict(X_pred)\n",
    "plot_heatmap(predicted_maps[2], grid_points_pred, title=\"Predicted Heatmap for First Test Position\")\n",
    "print(f\"Estimated :- {estimate_positions_from_maps(predicted_maps, grid_points_pred)[2]}\")\n",
    "print(f\"Ground Truth :- {y_pred[2]}\")\n",
    "plot_heatmap(prob_map_pred[2], grid_points_pred, title=\"Heatmap for First Test Position\")\n",
    "predicted_positions = np.matmul(predicted_maps, grid_points_pred)\n",
    "mae = np.mean(np.abs(y_pred - predicted_positions), axis=0)\n",
    "print(\"Mean Absolute Error (Position Predictions):\", mae)"
   ]
  },
  {
   "cell_type": "code",
   "execution_count": null,
   "id": "ccbe6e66",
   "metadata": {},
   "outputs": [],
   "source": [
    "jk=estimate_positions_from_maps(predicted_maps, grid_points_pred)"
   ]
  },
  {
   "cell_type": "code",
   "execution_count": null,
   "id": "2c1366eb",
   "metadata": {},
   "outputs": [],
   "source": [
    "plt.figure(figsize=(10, 10))\n",
    "plt.scatter(y_pred[:, 0], y_pred[:, 1], c='blue', label='Ground Truth (Test)', alpha=0.7)\n",
    "plt.scatter(jk[:, 0], jk[:, 1], c='red', label='Estimated (Test)', alpha=0.1)\n",
    "plt.title('Estimated vs Ground Truth Positions (Test Set)')\n",
    "plt.xlabel('X Position')\n",
    "plt.ylabel('Y Position')\n",
    "plt.legend()\n",
    "plt.grid(True)\n",
    "plt.show()"
   ]
  },
  {
   "cell_type": "code",
   "execution_count": null,
   "id": "25692640",
   "metadata": {},
   "outputs": [],
   "source": [
    "X_train.shape"
   ]
  },
  {
   "cell_type": "code",
   "execution_count": null,
   "id": "83192612",
   "metadata": {},
   "outputs": [],
   "source": [
    "# import tensorflow as tf\n",
    "# import math\n",
    "\n",
    "# def _generate_random_sequence(batch, lp, cp_len, gen):\n",
    "#     \"\"\"Internal helper that fabricates a complex perturbation with optional CP.\"\"\"\n",
    "#     # Amplitude A_k ∼ U([0,1]) and phase φ_k ∼ U([0,2π))\n",
    "#     print(\"Generating random sequence with batch size:\", batch, \"and length:\", lp)\n",
    "#     A   = gen.uniform((batch, lp), 0.0, 1.0, dtype=tf.float32)\n",
    "#     phi = gen.uniform((batch, lp), 0.0, 2.0 * math.pi, dtype=tf.float32)\n",
    "\n",
    "#     base = tf.complex(A * tf.cos(phi), A * tf.sin(phi))        # shape (batch, lp)\n",
    "\n",
    "#     if cp_len:\n",
    "#         cp   = base[:, -cp_len:]                               # last cp_len samples\n",
    "#         base = tf.concat([cp, base], axis=-1)                  # shape (batch, lp+cp_len)\n",
    "\n",
    "#     # Unit‑norm normalisation of the *entire* transmit vector\n",
    "#     norm = tf.linalg.norm(base, axis=-1, keepdims=True)\n",
    "#     return base / norm                                         # ℓ₂‑norm = 1\n",
    "\n",
    "# def random_attack(cir, *, lp=None, cp_len=0,\n",
    "#                   epsilon=1.0, seed=None, align='pad'):\n",
    "#     \"\"\"\n",
    "#     Applies the stochastic attack with user‑selectable Lp and cyclic prefix.\n",
    "\n",
    "#     Parameters\n",
    "#     ----------\n",
    "#     cir : tf.Tensor  (m, 256)\n",
    "#         CIR matrix.\n",
    "#     lp : int, optional\n",
    "#         Desired perturbation length *before* CP (defaults to 256).\n",
    "#     cp_len : int, optional\n",
    "#         Cyclic‑prefix length (0 ⇒ none).\n",
    "#     epsilon : float\n",
    "#         Global scaling of attack magnitude.\n",
    "#     seed : int, optional\n",
    "#         RNG seed for reproducibility.\n",
    "#     align : {'crop','pad'}\n",
    "#         Strategy when (lp+cp_len) ≠ 256.\n",
    "#     \"\"\"\n",
    "#     lp = (lp or cir.shape[-1])\n",
    "#     gen = (tf.random.Generator.from_seed(seed) if seed is not None\n",
    "#            else tf.random.Generator.from_non_deterministic_state())\n",
    "#     batch = tf.shape(cir)[0]\n",
    "\n",
    "#     perturb_r = _generate_random_sequence(batch, lp, cp_len, gen)\n",
    "\n",
    "#     feat_len  = tf.shape(cir)[-1]\n",
    "#     pert_len  = tf.shape(perturb_r)[-1]\n",
    "\n",
    "#     if pert_len > feat_len:                                 # need to shrink\n",
    "#         perturb_r = perturb_r[:, :feat_len] if align == 'crop' else \\\n",
    "#                     tf.slice(perturb_r, [0, 0], [-1, feat_len])\n",
    "#     elif pert_len < feat_len:                               # need to expand\n",
    "#         pad = feat_len - pert_len\n",
    "#         if align == 'pad':\n",
    "#             padding_ones = tf.ones((batch, pad), dtype=perturb_r.dtype)\n",
    "#             perturb_r = tf.concat([perturb_r, padding_ones], axis=-1)\n",
    "#         else:                                               # default crop\n",
    "#             perturb_r = tf.concat([perturb_r,\n",
    "#                                     tf.zeros((batch, pad), tf.float32)], axis=-1)\n",
    "    \n",
    "#     return cir * perturb_r"
   ]
  },
  {
   "cell_type": "code",
   "execution_count": 116,
   "id": "4b16c3c7",
   "metadata": {},
   "outputs": [],
   "source": [
    "# Converting CIR to CFR\n",
    "CFR = (tf.signal.fft(CIR)).numpy()"
   ]
  },
  {
   "cell_type": "code",
   "execution_count": 117,
   "id": "a9974fc9",
   "metadata": {},
   "outputs": [
    {
     "data": {
      "text/plain": [
       "(113203, 128)"
      ]
     },
     "execution_count": 117,
     "metadata": {},
     "output_type": "execute_result"
    }
   ],
   "source": [
    "CIR.shape"
   ]
  },
  {
   "cell_type": "code",
   "execution_count": 118,
   "id": "73ae3b58",
   "metadata": {},
   "outputs": [
    {
     "data": {
      "text/plain": [
       "(113203, 128)"
      ]
     },
     "execution_count": 118,
     "metadata": {},
     "output_type": "execute_result"
    }
   ],
   "source": [
    "CFR.shape"
   ]
  },
  {
   "cell_type": "code",
   "execution_count": 119,
   "id": "da10ff76",
   "metadata": {},
   "outputs": [],
   "source": [
    "import numpy as np\n",
    "from scipy.signal import convolve\n",
    "\n",
    "def random_attack(CFR, *, lp=None, cp_len=0, epsilon=1.0, align='pad'):\n",
    "    batch_size, n_subcarriers = CFR.shape\n",
    "    A = np.random.uniform(0, 1, (batch_size, lp))  \n",
    "    phi = np.random.uniform(0, 2 * np.pi, (batch_size, lp))\n",
    "    base = A * (np.cos(phi) + 1j * np.sin(phi))  # shape (batch, lp)\n",
    "\n",
    "    if cp_len:\n",
    "        cp = base[:, -cp_len:]\n",
    "        base = np.concatenate([cp, base], axis=-1)  # shape (batch, lp + cp_len)\n",
    "\n",
    "    # Normalize each perturbation vector to unit ℓ₂ norm\n",
    "    norm = np.linalg.norm(base, axis=-1, keepdims=True)\n",
    "    perturbation = base / norm  \n",
    "    print(\"Perturbation shape:\", perturbation.shape)\n",
    "    # Perform convolution batch-wise\n",
    "    final_cfr = np.ones_like(CFR, dtype=np.complex128)\n",
    "    for i in range(batch_size):\n",
    "        final_cfr[i] = convolve(CFR[i], perturbation[i], mode='same')\n",
    "\n",
    "    return final_cfr * epsilon\n"
   ]
  },
  {
   "cell_type": "code",
   "execution_count": 126,
   "id": "9ed7e971",
   "metadata": {},
   "outputs": [],
   "source": [
    "bange=range(40,201,10)"
   ]
  },
  {
   "cell_type": "code",
   "execution_count": 127,
   "id": "4a3960d4",
   "metadata": {},
   "outputs": [
    {
     "name": "stdout",
     "output_type": "stream",
     "text": [
      "Perturbation shape: (113203, 48)\n",
      "3538/3538 [==============================] - 5s 1ms/step\n",
      "Perturbation shape: (113203, 58)\n",
      "3538/3538 [==============================] - 5s 1ms/step\n",
      "Perturbation shape: (113203, 68)\n",
      "3538/3538 [==============================] - 5s 1ms/step\n",
      "Perturbation shape: (113203, 78)\n",
      "3538/3538 [==============================] - 5s 1ms/step\n",
      "Perturbation shape: (113203, 88)\n",
      "3538/3538 [==============================] - 5s 1ms/step\n",
      "Perturbation shape: (113203, 98)\n",
      "3538/3538 [==============================] - 5s 1ms/step\n",
      "Perturbation shape: (113203, 108)\n",
      "3538/3538 [==============================] - 5s 1ms/step\n",
      "Perturbation shape: (113203, 118)\n",
      "3538/3538 [==============================] - 5s 1ms/step\n",
      "Perturbation shape: (113203, 128)\n",
      "3538/3538 [==============================] - 5s 1ms/step\n",
      "Perturbation shape: (113203, 138)\n",
      "3538/3538 [==============================] - 5s 1ms/step\n",
      "Perturbation shape: (113203, 148)\n",
      "3538/3538 [==============================] - 5s 1ms/step\n",
      "Perturbation shape: (113203, 158)\n",
      "3538/3538 [==============================] - 5s 1ms/step\n",
      "Perturbation shape: (113203, 168)\n",
      "3538/3538 [==============================] - 5s 1ms/step\n",
      "Perturbation shape: (113203, 178)\n",
      "3538/3538 [==============================] - 5s 1ms/step\n",
      "Perturbation shape: (113203, 188)\n",
      "3538/3538 [==============================] - 5s 2ms/step\n",
      "Perturbation shape: (113203, 198)\n",
      "3538/3538 [==============================] - 5s 1ms/step\n",
      "Perturbation shape: (113203, 208)\n",
      "3538/3538 [==============================] - 5s 1ms/step\n"
     ]
    }
   ],
   "source": [
    "mde_vals=[]\n",
    "for x in bange:\n",
    "    lp_length = x\n",
    "    CIR_adv = random_attack(CIR, lp=lp_length,cp_len=8,align='pad')*10e-16\n",
    "    features_F1_cir_adv2 = np.array([feature_extraction_F1(cir) for cir in CIR_adv])\n",
    "    predicted_maps_adv2 = model2.predict(features_F1_cir_adv2)\n",
    "    predicted_positions_adv2 = np.matmul(predicted_maps_adv2, grid_points)\n",
    "    mde_adv2 = np.mean(np.sqrt((grt_pos[:,0]- predicted_positions_adv2[:,0])**2+(grt_pos[:,1]- predicted_positions_adv2[:,1])**2), axis=0)\n",
    "    mde_vals.append(mde_adv2)"
   ]
  },
  {
   "cell_type": "code",
   "execution_count": 128,
   "id": "d57fcbd7",
   "metadata": {},
   "outputs": [
    {
     "data": {
      "image/png": "[encoded data removed]",
      "text/plain": [
       "<Figure size 640x480 with 1 Axes>"
      ]
     },
     "metadata": {},
     "output_type": "display_data"
    }
   ],
   "source": [
    "#plot the MDE values\n",
    "import matplotlib.pyplot as plt\n",
    "plt.plot(bange, mde_vals, marker='o', linestyle='-', color='black')\n",
    "plt.title('MDE vs Perturbation Length in CFR')\n",
    "plt.xlabel('Perturbation Length (lp)') \n",
    "plt.ylabel('Mean Distance Error (MDE)')\n",
    "plt.grid(True)\n",
    "plt.show()"
   ]
  },
  {
   "cell_type": "code",
   "execution_count": null,
   "id": "94b6d8ef",
   "metadata": {},
   "outputs": [],
   "source": []
  }
 ],
 "metadata": {
  "kernelspec": {
   "display_name": "Summer_Intern",
   "language": "python",
   "name": "python3"
  },
  "language_info": {
   "codemirror_mode": {
    "name": "ipython",
    "version": 3
   },
   "file_extension": ".py",
   "mimetype": "text/x-python",
   "name": "python",
   "nbconvert_exporter": "python",
   "pygments_lexer": "ipython3",
   "version": "3.8.20"
  }
 },
 "nbformat": 4,
 "nbformat_minor": 5
}
